{
  "nbformat": 4,
  "nbformat_minor": 0,
  "metadata": {
    "colab": {
      "name": "9주차 수업 연습문제.ipynb",
      "provenance": [],
      "authorship_tag": "ABX9TyNexSvqj81bgVv5OzeEHjXM",
      "include_colab_link": true
    },
    "kernelspec": {
      "name": "python3",
      "display_name": "Python 3"
    },
    "language_info": {
      "name": "python"
    }
  },
  "cells": [
    {
      "cell_type": "markdown",
      "metadata": {
        "id": "view-in-github",
        "colab_type": "text"
      },
      "source": [
        "<a href=\"https://colab.research.google.com/github/munmoom/BCP_Week9/blob/main/9%EC%A3%BC%EC%B0%A8_%EC%88%98%EC%97%85_%EC%97%B0%EC%8A%B5%EB%AC%B8%EC%A0%9C.ipynb\" target=\"_parent\"><img src=\"https://colab.research.google.com/assets/colab-badge.svg\" alt=\"Open In Colab\"/></a>"
      ]
    },
    {
      "cell_type": "code",
      "execution_count": 15,
      "metadata": {
        "colab": {
          "base_uri": "https://localhost:8080/"
        },
        "id": "06uHZGDt4tFw",
        "outputId": "7c2c377a-d18b-4fac-e014-69f4cdff93fa"
      },
      "outputs": [
        {
          "output_type": "stream",
          "name": "stdout",
          "text": [
            "1 1 1 1\n",
            "0 1\n",
            "0 2\n",
            "0 3\n",
            "1 2\n",
            "1 3\n",
            "2 3\n",
            "6\n"
          ]
        }
      ],
      "source": [
        "nums = list(map(int, input().split()))\n",
        "\n",
        "a=0\n",
        "k = len(nums)\n",
        "for i in range (0,k-1):\n",
        "  for j in range (i+1,k):\n",
        "    if nums[i] == nums[j]:\n",
        "      print(i,j)\n",
        "      a +=1\n",
        "\n",
        "print(a)"
      ]
    }
  ]
}