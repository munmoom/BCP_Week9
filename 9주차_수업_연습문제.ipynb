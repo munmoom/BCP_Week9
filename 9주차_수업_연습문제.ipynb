{
  "nbformat": 4,
  "nbformat_minor": 0,
  "metadata": {
    "colab": {
      "name": "9주차 수업 연습문제.ipynb",
      "provenance": [],
      "authorship_tag": "ABX9TyMIk84QqRcUcSTOTX1QSnNx",
      "include_colab_link": true
    },
    "kernelspec": {
      "name": "python3",
      "display_name": "Python 3"
    },
    "language_info": {
      "name": "python"
    }
  },
  "cells": [
    {
      "cell_type": "markdown",
      "metadata": {
        "id": "view-in-github",
        "colab_type": "text"
      },
      "source": [
        "<a href=\"https://colab.research.google.com/github/munmoom/BCP_Week9/blob/main/9%EC%A3%BC%EC%B0%A8_%EC%88%98%EC%97%85_%EC%97%B0%EC%8A%B5%EB%AC%B8%EC%A0%9C.ipynb\" target=\"_parent\"><img src=\"https://colab.research.google.com/assets/colab-badge.svg\" alt=\"Open In Colab\"/></a>"
      ]
    },
    {
      "cell_type": "code",
      "execution_count": null,
      "metadata": {
        "colab": {
          "base_uri": "https://localhost:8080/"
        },
        "id": "06uHZGDt4tFw",
        "outputId": "7c2c377a-d18b-4fac-e014-69f4cdff93fa"
      },
      "outputs": [
        {
          "output_type": "stream",
          "name": "stdout",
          "text": [
            "1 1 1 1\n",
            "0 1\n",
            "0 2\n",
            "0 3\n",
            "1 2\n",
            "1 3\n",
            "2 3\n",
            "6\n"
          ]
        }
      ],
      "source": [
        "nums = list(map(int, input().split()))\n",
        "\n",
        "a=0\n",
        "k = len(nums)\n",
        "for i in range (0,k-1):\n",
        "  for j in range (i+1,k):\n",
        "    if nums[i] == nums[j]:\n",
        "      print(i,j)\n",
        "      a +=1\n",
        "\n",
        "print(a)"
      ]
    },
    {
      "cell_type": "code",
      "source": [
        "N=int(input())\n",
        "A=int(input())\n",
        "B=int(input())\n",
        "C=int(input())\n",
        "D=int(input())\n",
        "  \n",
        "RESULT1 = A//C\n",
        "\n",
        "RESULT2 = B//D\n",
        "\n",
        "result = RESULT1 if RESULT1>RESULT2 else RESULT2\n",
        "\n",
        "print(N - result)\n",
        "\n",
        "# 나머지가 0이 아닌 경우에는 +1"
      ],
      "metadata": {
        "id": "cmHw628xZzb0"
      },
      "execution_count": null,
      "outputs": []
    },
    {
      "cell_type": "code",
      "source": [
        "for _ in range(input()):\n"
      ],
      "metadata": {
        "id": "JzNa-QnXaTvE"
      },
      "execution_count": null,
      "outputs": []
    },
    {
      "cell_type": "code",
      "source": [
        "M = int(input())\n",
        "d = int(input())\n",
        "  \n",
        "if M ==11:\n",
        "  if d == 11:\n",
        "    print(\"special\")\n",
        "  if d<11:\n",
        "    print(\"before\")\n",
        "  if d>11:\n",
        "    print(\"after\")\n",
        "else:\n",
        "  if M>11:\n",
        "    print(\"after\")\n",
        "  else:\n",
        "    print(\"before\")"
      ],
      "metadata": {
        "colab": {
          "base_uri": "https://localhost:8080/",
          "height": 137
        },
        "id": "sAgTVt5wi0dk",
        "outputId": "c02a5c59-5293-4a00-8bce-ecbee891a243"
      },
      "execution_count": null,
      "outputs": [
        {
          "output_type": "error",
          "ename": "SyntaxError",
          "evalue": "ignored",
          "traceback": [
            "\u001b[0;36m  File \u001b[0;32m\"<ipython-input-23-62b4ff4d05a8>\"\u001b[0;36m, line \u001b[0;32m15\u001b[0m\n\u001b[0;31m    print(\"before\")2\u001b[0m\n\u001b[0m                   ^\u001b[0m\n\u001b[0;31mSyntaxError\u001b[0m\u001b[0;31m:\u001b[0m invalid syntax\n"
          ]
        }
      ]
    },
    {
      "cell_type": "code",
      "source": [
        "N,M,Y=map(int, input().split())\n",
        "for _ in range(Y):\n",
        "  if N>=M*2:\n",
        "    N=N-1\n",
        "  else:\n",
        "    M=M-1\n",
        "    \n",
        "print(result)"
      ],
      "metadata": {
        "colab": {
          "base_uri": "https://localhost:8080/"
        },
        "id": "VUl30qUgi0ac",
        "outputId": "67510450-4ac0-43b2-b645-c32c29879304"
      },
      "execution_count": null,
      "outputs": [
        {
          "output_type": "stream",
          "name": "stdout",
          "text": [
            "6 10 3\n",
            "7\n"
          ]
        }
      ]
    }
  ]
}